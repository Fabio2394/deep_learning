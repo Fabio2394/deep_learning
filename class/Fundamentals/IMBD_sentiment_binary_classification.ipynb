{
  "cells": [
    {
      "cell_type": "markdown",
      "metadata": {
        "id": "qb8EebNjq_2W"
      },
      "source": [
        "It is highly recommended to use a powerful **GPU**, you can use it for free uploading this notebook to [Google Colab](https://colab.research.google.com/notebooks/intro.ipynb).\n",
        "<table align=\"center\">\n",
        " <td align=\"center\"><a target=\"_blank\" href=\"https://colab.research.google.com/github/ezponda/intro_deep_learning/blob/main/class/Fundamentals/IMBD_sentiment_binary_classification.ipynb\">\n",
        "        <img src=\"https://colab.research.google.com/img/colab_favicon_256px.png\"  width=\"50\" height=\"50\" style=\"padding-bottom:5px;\" />Run in Google Colab</a></td>\n",
        "  <td align=\"center\"><a target=\"_blank\" href=\"https://github.com/ezponda/intro_deep_learning/blob/main/class/Fundamentals/IMBD_sentiment_binary_classification.ipynb\">\n",
        "        <img src=\"https://github.githubassets.com/images/modules/logos_page/GitHub-Mark.png\"  width=\"50\" height=\"50\" style=\"padding-bottom:5px;\" />View Source on GitHub</a></td>\n",
        "</table>"
      ]
    },
    {
      "cell_type": "markdown",
      "metadata": {
        "id": "AOv7Afygq_2Z"
      },
      "source": [
        "# Classification Example\n",
        " Two-class classification, or binary classification, may be the most widely applied kind of machine-learning problem. In this example, you’ll learn to classify movie reviews as positive or negative, based on the text content of the reviews.\n"
      ]
    },
    {
      "cell_type": "code",
      "execution_count": 38,
      "metadata": {
        "id": "5HZ0dBLeq_2a"
      },
      "outputs": [],
      "source": [
        "import tensorflow as tf\n",
        "from tensorflow import keras\n",
        "from tensorflow.keras import layers\n",
        "import numpy as np\n",
        "from tensorflow.keras import regularizers\n",
        "tf.random.set_seed(0)"
      ]
    },
    {
      "cell_type": "markdown",
      "metadata": {
        "id": "nE3zqeENq_2b"
      },
      "source": [
        "## The Dataset: The IMDB dataset\n",
        "We’ll work with the IMDB dataset: a set of 50,000 highly polarized reviews from the Internet Movie Database. They’re split into 25,000 reviews for training and 25,000 reviews for testing, each set consisting of 50% negative and 50% positive reviews. The  parameter `num_words` controls how many words different we want to use."
      ]
    },
    {
      "cell_type": "code",
      "execution_count": 3,
      "metadata": {
        "colab": {
          "base_uri": "https://localhost:8080/"
        },
        "id": "FwmU6UYDq_2b",
        "outputId": "b153cc23-51ad-4fd6-810d-a8fb3fdf0da2"
      },
      "outputs": [
        {
          "output_type": "stream",
          "name": "stdout",
          "text": [
            "[1, 14, 22, 16, 43, 530, 973, 1622, 1385, 65, 458, 4468, 66, 3941, 4, 173, 36, 256, 5, 25, 100, 43, 838, 112, 50, 670, 2, 9, 35, 480, 284, 5, 150, 4, 172, 112, 167, 2, 336, 385, 39, 4, 172, 4536, 1111, 17, 546, 38, 13, 447, 4, 192, 50, 16, 6, 147, 2025, 19, 14, 22, 4, 1920, 4613, 469, 4, 22, 71, 87, 12, 16, 43, 530, 38, 76, 15, 13, 1247, 4, 22, 17, 515, 17, 12, 16, 626, 18, 2, 5, 62, 386, 12, 8, 316, 8, 106, 5, 4, 2223, 2, 16, 480, 66, 3785, 33, 4, 130, 12, 16, 38, 619, 5, 25, 124, 51, 36, 135, 48, 25, 1415, 33, 6, 22, 12, 215, 28, 77, 52, 5, 14, 407, 16, 82, 2, 8, 4, 107, 117, 2, 15, 256, 4, 2, 7, 3766, 5, 723, 36, 71, 43, 530, 476, 26, 400, 317, 46, 7, 4, 2, 1029, 13, 104, 88, 4, 381, 15, 297, 98, 32, 2071, 56, 26, 141, 6, 194, 2, 18, 4, 226, 22, 21, 134, 476, 26, 480, 5, 144, 30, 2, 18, 51, 36, 28, 224, 92, 25, 104, 4, 226, 65, 16, 38, 1334, 88, 12, 16, 283, 5, 16, 4472, 113, 103, 32, 15, 16, 2, 19, 178, 32]\n"
          ]
        }
      ],
      "source": [
        "# Importa el dataset de reseñas de películas IMDB desde Keras.\n",
        "from tensorflow.keras.datasets import imdb\n",
        "\n",
        "# Especifica que solo se considerarán las 5.000 palabras más frecuentes del corpus.\n",
        "num_words = 5000\n",
        "\n",
        "# Carga los datos: train_data y test_data contienen las reseñas codificadas como listas de enteros.\n",
        "# train_labels y test_labels contienen las etiquetas (0 = negativa, 1 = positiva).\n",
        "(train_data, train_labels), (test_data, test_labels) = imdb.load_data(num_words=num_words)\n",
        "\n",
        "# Imprime la primera reseña del conjunto de entrenamiento, como una lista de enteros.\n",
        "print(train_data[0])"
      ]
    },
    {
      "cell_type": "code",
      "execution_count": 4,
      "metadata": {
        "colab": {
          "base_uri": "https://localhost:8080/"
        },
        "id": "Cvacegzbq_2b",
        "outputId": "041a89f4-a2cb-4bea-a44f-634709c7a845"
      },
      "outputs": [
        {
          "output_type": "stream",
          "name": "stdout",
          "text": [
            "Downloading data from https://storage.googleapis.com/tensorflow/tf-keras-datasets/imdb_word_index.json\n",
            "\u001b[1m1641221/1641221\u001b[0m \u001b[32m━━━━━━━━━━━━━━━━━━━━\u001b[0m\u001b[37m\u001b[0m \u001b[1m0s\u001b[0m 0us/step\n"
          ]
        }
      ],
      "source": [
        "# Obtiene el diccionario original de Keras que mapea palabras a índices (sin los tokens especiales).\n",
        "word2int = imdb.get_word_index()\n",
        "\n",
        "# Desplaza todos los índices en +3 para dejar espacio para los tokens especiales.\n",
        "word2int = {w: i+3 for w, i in word2int.items()}\n",
        "\n",
        "# Añade tokens especiales manualmente.\n",
        "word2int[\"<PAD>\"] = 0        # Para rellenar secuencias.\n",
        "word2int[\"<START>\"] = 1      # Indica el inicio de una reseña.\n",
        "word2int[\"<UNK>\"] = 2        # Palabra desconocida.\n",
        "word2int[\"<UNUSED>\"] = 3     # Reservado para uso futuro.\n",
        "\n",
        "# Invierte el diccionario para poder traducir de índice a palabra.\n",
        "int2word = {i: w for w, i in word2int.items()}\n",
        "\n",
        "# Ajusta num_words para tener en cuenta los nuevos tokens añadidos.\n",
        "num_words = num_words + 3\n"
      ]
    },
    {
      "cell_type": "markdown",
      "metadata": {
        "id": "uVejhWKjq_2c"
      },
      "source": [
        "For transforming an id-sequence to a phrase use get_words"
      ]
    },
    {
      "cell_type": "code",
      "execution_count": 5,
      "metadata": {
        "colab": {
          "base_uri": "https://localhost:8080/"
        },
        "id": "0wFEe15Tq_2c",
        "outputId": "cc37925d-d669-4be6-e90c-fc697f6ba61a"
      },
      "outputs": [
        {
          "output_type": "stream",
          "name": "stdout",
          "text": [
            "<START> this film was just brilliant casting location scenery story direction everyone's really suited the part they played and you could just imagine being there robert <UNK> is an amazing actor and now the same being director <UNK> father came from the same scottish island as myself so i loved the fact there was a real connection with this film the witty remarks throughout the film were great it was just brilliant so much that i bought the film as soon as it was released for <UNK> and would recommend it to everyone to watch and the fly <UNK> was amazing really cried at the end it was so sad and you know what they say if you cry at a film it must have been good and this definitely was also <UNK> to the two little <UNK> that played the <UNK> of norman and paul they were just brilliant children are often left out of the <UNK> list i think because the stars that play them all grown up are such a big <UNK> for the whole film but these children are amazing and should be <UNK> for what they have done don't you think the whole story was so lovely because it was true and was someone's life after all that was <UNK> with us all\n",
            "Sentiment:  1\n"
          ]
        }
      ],
      "source": [
        "# Función que transforma una reseña codificada (lista de índices) en texto usando el diccionario int2word.\n",
        "def get_words(sentence, int2word):\n",
        "    return ' '.join([int2word.get(i, '<UNK>') for i in sentence])\n",
        "\n",
        "# Imprime la primera reseña del conjunto de entrenamiento, ya decodificada a texto.\n",
        "print(get_words(train_data[0], int2word))\n",
        "\n",
        "# Imprime la etiqueta (sentimiento) de esa reseña: 1 = positiva, 0 = negativa.\n",
        "print('Sentiment: ', train_labels[0])"
      ]
    },
    {
      "cell_type": "markdown",
      "metadata": {
        "id": "U7-Vz7K_q_2c"
      },
      "source": [
        "## Data Preprocessing\n",
        "\n",
        "You need to convert your raw text to an appropriate input to a sequential model"
      ]
    },
    {
      "cell_type": "code",
      "execution_count": 6,
      "metadata": {
        "colab": {
          "base_uri": "https://localhost:8080/"
        },
        "id": "hPwjQPT1q_2c",
        "outputId": "733cb50e-9fe0-436d-b2f4-d57b9636916a"
      },
      "outputs": [
        {
          "output_type": "stream",
          "name": "stdout",
          "text": [
            "<START> this film was just brilliant casting location scenery story direction everyone's really suited the part they played and you could just imagine being there robert <UNK> is an amazing actor and now the same being director <UNK> father came from the same scottish island as myself so i loved the fact there was a real connection with this film the witty remarks throughout the film were great it was just brilliant so much that i bought the film as soon as it was released for <UNK> and would recommend it to everyone to watch and the fly <UNK> was amazing really cried at the end it was so sad and you know what they say if you cry at a film it must have been good and this definitely was also <UNK> to the two little <UNK> that played the <UNK> of norman and paul they were just brilliant children are often left out of the <UNK> list i think because the stars that play them all grown up are such a big <UNK> for the whole film but these children are amazing and should be <UNK> for what they have done don't you think the whole story was so lovely because it was true and was someone's life after all that was <UNK> with us all\n",
            "[1, 14, 22, 16, 43, 530, 973, 1622, 1385, 65, 458, 4468, 66, 3941, 4, 173, 36, 256, 5, 25, 100, 43, 838, 112, 50, 670, 2, 9, 35, 480, 284, 5, 150, 4, 172, 112, 167, 2, 336, 385, 39, 4, 172, 4536, 1111, 17, 546, 38, 13, 447, 4, 192, 50, 16, 6, 147, 2025, 19, 14, 22, 4, 1920, 4613, 469, 4, 22, 71, 87, 12, 16, 43, 530, 38, 76, 15, 13, 1247, 4, 22, 17, 515, 17, 12, 16, 626, 18, 2, 5, 62, 386, 12, 8, 316, 8, 106, 5, 4, 2223, 2, 16, 480, 66, 3785, 33, 4, 130, 12, 16, 38, 619, 5, 25, 124, 51, 36, 135, 48, 25, 1415, 33, 6, 22, 12, 215, 28, 77, 52, 5, 14, 407, 16, 82, 2, 8, 4, 107, 117, 2, 15, 256, 4, 2, 7, 3766, 5, 723, 36, 71, 43, 530, 476, 26, 400, 317, 46, 7, 4, 2, 1029, 13, 104, 88, 4, 381, 15, 297, 98, 32, 2071, 56, 26, 141, 6, 194, 2, 18, 4, 226, 22, 21, 134, 476, 26, 480, 5, 144, 30, 2, 18, 51, 36, 28, 224, 92, 25, 104, 4, 226, 65, 16, 38, 1334, 88, 12, 16, 283, 5, 16, 4472, 113, 103, 32, 15, 16, 2, 19, 178, 32]\n"
          ]
        }
      ],
      "source": [
        "def vectorize_text_sentence(text, word2int):\n",
        "    tokens = text.split(' ')\n",
        "    tokens_id = [word2int.get(tk,2) for tk in tokens]\n",
        "    return tokens_id\n",
        "\n",
        "text = get_words(train_data[0], int2word)\n",
        "print(text)\n",
        "print(vectorize_text_sentence(text, word2int))"
      ]
    },
    {
      "cell_type": "markdown",
      "metadata": {
        "id": "Co5_Hdxhq_2d"
      },
      "source": [
        "### Bag of Words Model BoW\n",
        "We are going to use a bag of words model. BoW is a simplifying representation used in natural language processing. In this model, a text (such as a sentence or a document) is represented as the Each key is the word, and each value is the frequency of occurrences of that word in the given text document.\n",
        "\n",
        "- **Input document**: `\"John likes to watch movies Mary likes movies too\"`\n",
        "- **BoW**: `{'John': 1, 'likes': 2, 'to': 1, 'watch': 1, 'movies': 2, 'Mary': 1, 'too': 1}`\n",
        "- **BoW Normalized**: `{'John': 0.11, 'likes': 0.22, 'to': 0.11, 'watch': 0.11, 'movies': 0.22, 'Mary': 0.11, 'too': 0.11}`\n"
      ]
    },
    {
      "cell_type": "code",
      "execution_count": 7,
      "metadata": {
        "colab": {
          "base_uri": "https://localhost:8080/"
        },
        "id": "5Kd6daIcq_2d",
        "outputId": "45c3a9f8-9eee-42fc-c71e-bc9a3d1e430b"
      },
      "outputs": [
        {
          "output_type": "stream",
          "name": "stdout",
          "text": [
            "text_example John likes to watch movies Mary likes movies too\n",
            "text splitted ['John', 'likes', 'to', 'watch', 'movies', 'Mary', 'likes', 'movies', 'too']\n",
            "bag_of_words {'John': 0.1111111111111111, 'likes': 0.2222222222222222, 'to': 0.1111111111111111, 'watch': 0.1111111111111111, 'movies': 0.2222222222222222, 'Mary': 0.1111111111111111, 'too': 0.1111111111111111}\n",
            "bag_of_words norm=False {'John': 1, 'likes': 2, 'to': 1, 'watch': 1, 'movies': 2, 'Mary': 1, 'too': 1}\n",
            "bag_of_words with indexes {308: 1, 1232: 2, 8: 1, 106: 1, 102: 2, 1083: 1, 99: 1}\n"
          ]
        }
      ],
      "source": [
        "from collections import Counter\n",
        "\n",
        "def get_bag_of_words(sequence, norm=True):\n",
        "    word_count = Counter(sequence)\n",
        "    if norm:\n",
        "        total = sum(word_count.values())\n",
        "        word_freq = {w: n / total for w, n in word_count.items()}\n",
        "        return word_freq\n",
        "    else:\n",
        "        return dict(word_count.items())\n",
        "\n",
        "text_example = \"John likes to watch movies Mary likes movies too\"\n",
        "print('text_example', text_example)\n",
        "text_sequence = text_example.split()\n",
        "print('text splitted', text_sequence)\n",
        "bag_of_words = get_bag_of_words(text_sequence)\n",
        "print('bag_of_words', bag_of_words)\n",
        "print('bag_of_words norm=False', get_bag_of_words(text_sequence, norm=False))\n",
        "print(\n",
        "    'bag_of_words with indexes', {\n",
        "        word2int[w.lower()]: p\n",
        "        for w, p in get_bag_of_words(text_sequence, norm=False).items()\n",
        "    })"
      ]
    },
    {
      "cell_type": "markdown",
      "metadata": {
        "id": "58tSDpCFq_2d"
      },
      "source": [
        "### Document Term Matrix\n",
        "\n",
        "We need a way to model the documents so that they are all the same length, so that we can use a neural network. For this we are going to use the document term matrix.\n",
        "- Every document is a vector with the dimension of the vocabulary.\n",
        "- The position i of the vector corresponds to the word with index i.\n",
        "- The vector is all zeros except for the BoW word positions, which are filled with the frequency of the corresponding word.\n",
        "\n",
        "\n",
        "For example:\n",
        "\n",
        "- D1 = \"I like movies\",  `{'I': 1, 'like': 1, 'movies': 1}`\n",
        "\n",
        "- D2 = \"I dislike movies\",  `{'I': 1, 'dislike': 1, 'movies': 1}`\n",
        "\n",
        "Then the document-term matrix would be:\n",
        "\n",
        "\n",
        "\n",
        "   | Doc| I  | like    | dislike   | movies   |\n",
        "|---:|:-------------|:-----------|:------|:------|\n",
        "| D1 | 1  | 1       | 0   | 1     |\n",
        "| D2 | 1  | 0    | 1   | 1     |\n",
        "\n",
        "$D1 = [1,1,0,1]$\n",
        "\n",
        "$D2 = [1,0,1,1]$\n",
        "\n",
        "We convert every BoW to a vector of `dim=num_words` with `vectorize_sequences`"
      ]
    },
    {
      "cell_type": "code",
      "execution_count": 54,
      "metadata": {
        "colab": {
          "base_uri": "https://localhost:8080/"
        },
        "id": "YgZIEzapq_2d",
        "outputId": "0ecb07df-7c39-42b6-9265-0a544891ceaa"
      },
      "outputs": [
        {
          "output_type": "execute_result",
          "data": {
            "text/plain": [
              "((25000, 5003), (25000,))"
            ]
          },
          "metadata": {},
          "execution_count": 54
        }
      ],
      "source": [
        "def vectorize_sequence(sequence, num_words, norm=True):\n",
        "    vec = np.zeros(num_words)\n",
        "    bow = get_bag_of_words(sequence, norm)\n",
        "    for w, freq in bow.items():\n",
        "        if w < num_words:\n",
        "            vec[w] = freq\n",
        "    return vec\n",
        "\n",
        "\n",
        "def vectorize_sequences(sequences, num_words=num_words, norm=True):\n",
        "    \"\"\"Creates an all-zero matrix of shape (len(sequences), num_words)\"\"\"\n",
        "    results = np.zeros((len(sequences), num_words))\n",
        "    for i, sequence in enumerate(sequences):\n",
        "        results[i, :] = vectorize_sequence(sequence, num_words, norm)\n",
        "    return results\n",
        "\n",
        "\n",
        "x_train = vectorize_sequences(train_data, num_words=num_words)\n",
        "x_test = vectorize_sequences(test_data, num_words=num_words)\n",
        "y_train =np.asarray(train_labels).astype('float32')\n",
        "y_test = np.asarray(test_labels).astype('float32')\n",
        "x_train.shape, y_train.shape"
      ]
    },
    {
      "cell_type": "markdown",
      "metadata": {
        "id": "uNKunCKzq_2d"
      },
      "source": [
        "## Define and train a model\n",
        "\n",
        "Define, compile and fit your NN model\n",
        "\n",
        "1. You can use the [Functional API](https://keras.io/guides/functional_api/):\n",
        "\n",
        "You need to start with an input data entry:\n",
        "```python    \n",
        "    inputs = keras.Input(shape=(8,))\n",
        "    layer_1 = layers.Dense(...)(inputs)\n",
        "```\n",
        "\n",
        "and the network outputs:\n",
        "```python\n",
        "outputs = layers.Dense(...)(previous_layer)\n",
        "model = keras.Model(inputs=inputs, outputs=outputs)\n",
        "```\n",
        "\n",
        "2. Or you can use [Sequential API](https://keras.io/guides/sequential_model/)\n",
        "\n",
        "```python\n",
        "model = keras.Sequential(name='example_model')\n",
        "model.add(layers.Dense(..., input_shape=(8,))\n",
        "model.add(...\n",
        "```\n",
        "\n",
        "You can introduce regularization methods seen in [Prevent_Overfitting.ipynb](https://github.com/ezponda/intro_deep_learning/blob/main/class/Fundamentals/Prevent_Overfitting.ipynb) like [Dropout layer](https://www.tensorflow.org/api_docs/python/tf/keras/layers/Dropout):\n",
        "\n",
        "\n",
        "```python\n",
        "tf.keras.layers.Dropout(\n",
        "    rate, noise_shape=None, seed=None, **kwargs\n",
        ")\n",
        "```\n",
        "\n",
        "With Functional API:\n",
        "```python\n",
        "next_layer = layers.Dropout(0.4)(prev_layer)\n",
        "```\n",
        "With Sequential:\n",
        "```python\n",
        "model.add(layers.Dropout(0.4))\n",
        "```\n",
        "\n",
        "First try with only one hidden layer and see the results."
      ]
    },
    {
      "cell_type": "code",
      "execution_count": null,
      "metadata": {
        "id": "EKqd4I5yq_2e"
      },
      "outputs": [],
      "source": [
        "model = ..."
      ]
    },
    {
      "cell_type": "code",
      "execution_count": 45,
      "metadata": {
        "id": "lcXuHtoeq_2e"
      },
      "outputs": [],
      "source": [
        "kerner_regularizer_l2 = regularizers.l2(5e-4)\n",
        "\n",
        "inputs = tf.keras.Input(shape=(num_words,), name='input_layer')  # entrada\n",
        "\n",
        "l_1 = layers.Dense(64, activation='relu')(inputs)\n",
        "l_2 = layers.Dropout(0.4)(l_1)\n",
        "l_3 = layers.Dense(64,\n",
        "                   activation='relu',\n",
        "                   kernel_regularizer=kerner_regularizer_l2)(l_2)\n",
        "l_4 = layers.Dense(32, activation='relu')(l_3)\n",
        "l_5 = layers.Dropout(0.4)(l_4)\n",
        "l_6 = layers.Dense(16, activation='relu')(l_5)\n",
        "outputs = layers.Dense(1, activation='sigmoid')(l_6)\n",
        "\n",
        "# Model definition\n",
        "model = keras.Model(inputs=inputs, outputs=outputs)"
      ]
    },
    {
      "cell_type": "code",
      "execution_count": 46,
      "metadata": {
        "colab": {
          "base_uri": "https://localhost:8080/"
        },
        "id": "O6BvS0Xuq_2e",
        "outputId": "31e16a42-e50f-4ada-8b04-1c3396813bf8"
      },
      "outputs": [
        {
          "output_type": "stream",
          "name": "stdout",
          "text": [
            "Epoch 1/10\n",
            "\u001b[1m586/586\u001b[0m \u001b[32m━━━━━━━━━━━━━━━━━━━━\u001b[0m\u001b[37m\u001b[0m \u001b[1m8s\u001b[0m 8ms/step - accuracy: 0.6111 - loss: 0.6310 - val_accuracy: 0.8774 - val_loss: 0.3097\n",
            "Epoch 2/10\n",
            "\u001b[1m586/586\u001b[0m \u001b[32m━━━━━━━━━━━━━━━━━━━━\u001b[0m\u001b[37m\u001b[0m \u001b[1m6s\u001b[0m 4ms/step - accuracy: 0.8832 - loss: 0.3202 - val_accuracy: 0.8882 - val_loss: 0.2851\n",
            "Epoch 3/10\n",
            "\u001b[1m586/586\u001b[0m \u001b[32m━━━━━━━━━━━━━━━━━━━━\u001b[0m\u001b[37m\u001b[0m \u001b[1m2s\u001b[0m 4ms/step - accuracy: 0.9047 - loss: 0.2643 - val_accuracy: 0.8824 - val_loss: 0.3014\n",
            "Epoch 4/10\n",
            "\u001b[1m586/586\u001b[0m \u001b[32m━━━━━━━━━━━━━━━━━━━━\u001b[0m\u001b[37m\u001b[0m \u001b[1m2s\u001b[0m 4ms/step - accuracy: 0.9201 - loss: 0.2266 - val_accuracy: 0.8893 - val_loss: 0.2909\n",
            "Epoch 5/10\n",
            "\u001b[1m586/586\u001b[0m \u001b[32m━━━━━━━━━━━━━━━━━━━━\u001b[0m\u001b[37m\u001b[0m \u001b[1m2s\u001b[0m 4ms/step - accuracy: 0.9304 - loss: 0.2002 - val_accuracy: 0.8683 - val_loss: 0.3492\n",
            "Epoch 6/10\n",
            "\u001b[1m586/586\u001b[0m \u001b[32m━━━━━━━━━━━━━━━━━━━━\u001b[0m\u001b[37m\u001b[0m \u001b[1m2s\u001b[0m 3ms/step - accuracy: 0.9367 - loss: 0.1870 - val_accuracy: 0.8811 - val_loss: 0.3328\n",
            "Epoch 7/10\n",
            "\u001b[1m586/586\u001b[0m \u001b[32m━━━━━━━━━━━━━━━━━━━━\u001b[0m\u001b[37m\u001b[0m \u001b[1m2s\u001b[0m 4ms/step - accuracy: 0.9417 - loss: 0.1691 - val_accuracy: 0.8733 - val_loss: 0.3531\n",
            "Epoch 8/10\n",
            "\u001b[1m586/586\u001b[0m \u001b[32m━━━━━━━━━━━━━━━━━━━━\u001b[0m\u001b[37m\u001b[0m \u001b[1m2s\u001b[0m 4ms/step - accuracy: 0.9489 - loss: 0.1521 - val_accuracy: 0.8869 - val_loss: 0.3350\n",
            "Epoch 9/10\n",
            "\u001b[1m586/586\u001b[0m \u001b[32m━━━━━━━━━━━━━━━━━━━━\u001b[0m\u001b[37m\u001b[0m \u001b[1m3s\u001b[0m 5ms/step - accuracy: 0.9540 - loss: 0.1442 - val_accuracy: 0.8811 - val_loss: 0.3602\n",
            "Epoch 9: early stopping\n",
            "Restoring model weights from the end of the best epoch: 4.\n"
          ]
        }
      ],
      "source": [
        "es_callback = keras.callbacks.EarlyStopping(\n",
        "    monitor='val_accuracy',  # can be 'val_accuracy'\n",
        "    patience=5,  # if during 5 epochs there is no improvement in `val_loss`, the execution will stop\n",
        "    restore_best_weights=True,\n",
        "    verbose=1)\n",
        "\n",
        "model.compile(\n",
        "    optimizer='adam',\n",
        "    loss='binary_crossentropy',\n",
        "    metrics=['accuracy'],\n",
        ")\n",
        "history = model.fit(x_train, y_train, validation_split=0.25, epochs= 10, batch_size=32, callbacks=[es_callback]\n",
        ")"
      ]
    },
    {
      "cell_type": "code",
      "execution_count": 47,
      "metadata": {
        "colab": {
          "base_uri": "https://localhost:8080/",
          "height": 542
        },
        "id": "YnnZD0S8q_2e",
        "outputId": "9fa9a327-5131-48c4-cded-057f8513a702"
      },
      "outputs": [
        {
          "output_type": "display_data",
          "data": {
            "text/plain": [
              "<Figure size 1600x600 with 2 Axes>"
            ],
            "image/png": "[encoded data removed]"
          },
          "metadata": {}
        }
      ],
      "source": [
        "import matplotlib.pyplot as plt\n",
        "import pandas as pd\n",
        "def show_loss_accuracy_evolution(hist):\n",
        "\n",
        "    fig, (ax1, ax2) = plt.subplots(1, 2, figsize=(16, 6))\n",
        "\n",
        "    ax1.set_xlabel('Epoch')\n",
        "    ax1.set_ylabel('Sparse Categorical Crossentropy')\n",
        "    ax1.plot(hist['epoch'], hist['loss'], label='Train Error')\n",
        "    ax1.plot(hist['epoch'], hist['val_loss'], label = 'Val Error')\n",
        "    ax1.grid()\n",
        "    ax1.legend()\n",
        "\n",
        "    ax2.set_xlabel('Epoch')\n",
        "    ax2.set_ylabel('Accuracy')\n",
        "    ax2.plot(hist['epoch'], hist['accuracy'], label='Train Accuracy')\n",
        "    ax2.plot(hist['epoch'], hist['val_accuracy'], label = 'Val Accuracy')\n",
        "    ax2.grid()\n",
        "    ax2.legend()\n",
        "\n",
        "    plt.show()\n",
        "\n",
        "hist = pd.DataFrame(history.history)\n",
        "hist['epoch'] = history.epoch\n",
        "show_loss_accuracy_evolution(hist)"
      ]
    },
    {
      "cell_type": "markdown",
      "metadata": {
        "id": "MZOe1QwFq_2e"
      },
      "source": [
        "### Evaluate the model\n",
        "You need to obtain a Test Accuracy > 0.85. Try to get more than 0.9!"
      ]
    },
    {
      "cell_type": "code",
      "execution_count": 48,
      "metadata": {
        "colab": {
          "base_uri": "https://localhost:8080/"
        },
        "id": "OM0jQzAwq_2e",
        "outputId": "a36185f0-1de9-438a-e896-7329b1c87d42"
      },
      "outputs": [
        {
          "output_type": "stream",
          "name": "stdout",
          "text": [
            "\u001b[1m782/782\u001b[0m \u001b[32m━━━━━━━━━━━━━━━━━━━━\u001b[0m\u001b[37m\u001b[0m \u001b[1m3s\u001b[0m 3ms/step - accuracy: 0.8805 - loss: 0.3063\n",
            "Test Loss: 0.30501696467399597\n",
            "Test Accuracy: 0.8820400238037109\n"
          ]
        }
      ],
      "source": [
        "results = model.evaluate(x_test, y_test, verbose=1)\n",
        "print('Test Loss: {}'.format(results[0]))\n",
        "print('Test Accuracy: {}'.format(results[1]))"
      ]
    },
    {
      "cell_type": "code",
      "execution_count": 49,
      "metadata": {
        "colab": {
          "base_uri": "https://localhost:8080/"
        },
        "id": "N0u61m30q_2e",
        "outputId": "215a3eba-7d2d-4657-ca16-9778b907d3c1"
      },
      "outputs": [
        {
          "output_type": "stream",
          "name": "stdout",
          "text": [
            "\u001b[1m782/782\u001b[0m \u001b[32m━━━━━━━━━━━━━━━━━━━━\u001b[0m\u001b[37m\u001b[0m \u001b[1m2s\u001b[0m 2ms/step\n",
            "Predicted : 1, real : 0.0, lenght: 484\n",
            "<START> the first time i had heard of guest house was in the <UNK> <UNK> after having just seen fight club in each <UNK> was <UNK> a small round black circle when the circle came into contact with <UNK> to put it <UNK> it caused a colour picture to form with <UNK> of the two stars and the tag line you'll p yourself laughing when you'd finished <UNK> your hands the circle had <UNK> and <UNK> to black again waiting to spring it's surprise on the next victim br br okay maybe the <UNK> wasn't terribly sophisticated but you have to admit it was innovative in fact i think i can honestly say i've never seen anything like it in my life before and these days of over a century of cinema and marketing that's a real <UNK> what a pity the film that went with it failed to live up to the promise br br i hate to pan guest house and i am <UNK> to richard and <UNK> eddie elizabeth for many years of laughter through their appealing television series be it the <UNK> of the young ones <UNK> 1984 the sitting room plays of bottom <UNK> <UNK> or even solo work such as in the new <UNK> <UNK> <UNK> in fact this would have made an hilarious 45 minute tv special unfortunately its an <UNK> minute film br br there's definitely some merit to be had and i laughed <UNK> throughout the <UNK> finale which <UNK> the <UNK> and <UNK> of the lost <UNK> and involved well you'll have to see that bit for yourself yet often the pace is <UNK> and a <UNK> atmosphere is throughout the two stars taking his usual <UNK> this time due to the fact that he <UNK> directs never really get into first <UNK> only <UNK> showing the foul <UNK> <UNK> that makes us love him on the small screen indeed the <UNK> <UNK> that we are already familiar with the characters leads to them being to the audience the slight hints of depth seen in the series <UNK> <UNK> failed social <UNK> for example are not present here and instead we are left with <UNK> of <UNK> br br the <UNK> <UNK> <UNK> does pass water complete with drunken <UNK> and unseen called for <UNK> which <UNK> <UNK> with <UNK> some of the ideas such a hotel next to a nuclear <UNK> with a <UNK> <UNK> hanging over a cliff face are very very funny but ultimately the <UNK> pace is stolen the two constantly looking for a studio audience that isn't there and all the dead laugh areas <UNK> up with <UNK> comedy music that would have been dated in a carry on film two decades ago br br brand of <UNK> sadistic <UNK> humour is funny and i feel sure it will make you laugh just not as often as it should\n",
            "\n",
            "Predicted : 1, real : 0.0, lenght: 59\n",
            "<START> yes that's true that movie is a horrible piece of you know what almost all fans of books in <UNK> think the same the truth is that <UNK> cinematography can not afford producing fantasy films it's a shame when you compare and <UNK> the <UNK> for example i hope no one outside <UNK> will ever see this nightmare\n",
            "\n",
            "Predicted : 1, real : 0.0, lenght: 464\n",
            "<START> there was a time when <UNK> <UNK> was <UNK> quite high on my list of favorite directors back in the late 80's and early 90's when his name was attached to several great films like the lost boys and falling down he truly was one of the most gifted directors in hollywood then came the stupid batman sequels unfortunately and after that it seemed as if every potentially <UNK> screenplay turned into a <UNK> mess in <UNK> hands both <UNK> and phone <UNK> could have been much better films and even the incredibly <UNK> concept of the number <UNK> should have been <UNK> into a slightly more compelling and entertaining movie literally from start to finish the number <UNK> desperately attempts to be a mysterious and <UNK> thriller and therefore uses all the dreadful clichés from the big book of cinema history including heavy voiced narration flashbacks <UNK> structure characters with multiple personalities numerous plot twists that grow increasingly absurd and sinister <UNK> settings nothing helps however simply due to the sheer <UNK> of the basic formula and the clearly uninspired <UNK> of cast crew as much as you try to <UNK> with the lead character and be open minded regarding the insane <UNK> this still remains a movie about a two <UNK> number and two <UNK> numbers aren't scary walter <UNK> jim carrey in a rare non comical role is a bored animal <UNK> whose wife <UNK> gives him a bizarre book on his birthday the book tells about all sorts of <UNK> <UNK> and strange <UNK> that are <UNK> to the number <UNK> walter almost <UNK> <UNK> himself with the <UNK> protagonist a sleazy detective <UNK> a grim case of suicide and begins to spot <UNK> examples of the <UNK> <UNK> in his own private life i did some research on <UNK> and <UNK> and apparently this whole <UNK> <UNK> nonsense really exists and certain people honestly believe that most <UNK> and <UNK> are directly connected to this evil number well that's just <UNK> crazy but hey i'm not here to judge people's beliefs and fears regardless of how demented they are and i can only share my humble opinion on a movie that is based on an out and out <UNK> <UNK> the number <UNK> is not suspenseful in spite of several <UNK> set pieces and nasty make up effects and never at one point manages to make you <UNK> about the role of numbers in your own life all cast members perform below their normal <UNK> but it was still nevertheless a joy to see the lovely mrs virginia <UNK> in a relatively big production again definitely not recommended in case you're looking for a solid and creepy evening of thriller fun but <UNK> and not entirely without merit\n",
            "\n",
            "Predicted : 0, real : 1.0, lenght: 501\n",
            "<START> some said that this was a nose candy <UNK> flick but short of the original dr <UNK> <UNK> no drug has yet been developed that can provide this effect if <UNK> was the <UNK> <UNK> stage that white <UNK> <UNK> is the stephen <UNK> <UNK> <UNK> or at least the <UNK> idiot <UNK> <UNK> this reality show is really about the <UNK> <UNK> of <UNK> seen as was the <UNK> without clothes few of us want to question the health field both because most of us would not have lived to our current age had we been born before modern <UNK> and because our <UNK> hopes that we will continue to live on if we have faith in the helping <UNK> so the <UNK> who produced this movie made jokes out of those <UNK> giving us the <UNK> that allows us to <UNK> the modern <UNK> of <UNK> the timing was right and many were able to see the business side of the <UNK> <UNK> behind the <UNK> of oz a decade before when george c scott <UNK> through the movie the hospital my wife and i were sitting in the packed <UNK> in <UNK> city just as in <UNK> <UNK> remake we were almost unable to keep from falling out of our seat and laughed and <UNK> <UNK> for the <UNK> the hundreds of other audience members were deadly silent they were shocked that <UNK> <UNK> the hospital <UNK> were being <UNK> it was as if the <UNK> billy <UNK> and gandhi were were sitting in the animal house beer <UNK> <UNK> <UNK> and all <UNK> to see who could tell the funniest god knock knock jokes between had the hospital been a slapstick comedy rather than a satire they might have been able to see what was being shown to them unfortunately they were like <UNK> at a screening of michael <UNK> 9 11 perhaps smaller golden would have been given to the corrupt medical <UNK> <UNK> health <UNK> <UNK> would have had a <UNK> time <UNK> medical care and health <UNK> would have been earlier if george c scott had tap <UNK> in a <UNK> while delivering his terrible <UNK> but forget everything i just said watch the movie be <UNK> made as happy and <UNK> and full of laughter as the best ever saturday night live <UNK> and let the <UNK> <UNK> in the documentary of the <UNK> reality just don't blame me when got to got to got to got to becomes one of your <UNK> or when <UNK> got nothing to hide <UNK> that portion of your brain now <UNK> by its a small world after all or when you start calling your local hospital our lady of pain and suffering instead of our lady of <UNK> construction even were changing their favorite terrible boss <UNK> winner from <UNK> on him and leave him for dead to body in a pit you in it the <UNK> of death it's gone <UNK> <UNK> mary mary\n",
            "\n",
            "Predicted : 0, real : 1.0, lenght: 165\n",
            "<START> for the record i am a <UNK> fan through and through but i do have to say that in reality <UNK> wasn't really that bad yeah he might have lacked the same kind of slapstick that <UNK> had but in his own way he was hilarious at least he wasn't as bad as joe <UNK> br br in <UNK> <UNK> <UNK> plays a music professor <UNK> a professor yeah right who recently <UNK> a half million dollars from a dead uncle and <UNK> larry have to <UNK> him to marry a woman by six <UNK> that night or no money br br this was one of the <UNK> first <UNK> with <UNK> before they started <UNK> their material perhaps it isn't surprising that <UNK> was part of the stooges before <UNK> came into the picture so he seemed natural at this the slapstick gags are hilarious especially this one scene with <UNK> and <UNK> in a phone <UNK> essential <UNK> short to be honest\n",
            "\n",
            "Predicted : 0, real : 1.0, lenght: 165\n",
            "<START> it's particularly hard for a director to capture film making without getting precious <UNK> over dramatic or all three <UNK> <UNK> the <UNK> <UNK> brain methods of a female <UNK> in <UNK> from two <UNK> as hitchcock called actors a love scene of <UNK> <UNK> her main battle is with her leading man an actor is really a woman she <UNK> although naturally it is the leading lady who will steal the show i disagree that this is first comedy <UNK> was at various points hilarious but i accept that the french sense of humour can be <UNK> for <UNK> indeed dozens of imdb reviewers <UNK> no comedy in romance by contrast sex is comedy <UNK> plenty of laughs mainly by using an <UNK> <UNK> that goes back thousands of years to and the ancient <UNK> we wondered leaving the theatre whether <UNK> was a <UNK> a lovely performance from anne as wrestling with her own script looking ten years younger than her age\n",
            "\n",
            "Predicted : 1, real : 0.0, lenght: 288\n",
            "<START> what we know of <UNK> suggests a <UNK> with a <UNK> sense of <UNK> who lived amongst <UNK> and <UNK> and <UNK> and put them on <UNK> his themes were sex death redemption above all finding the <UNK> within the <UNK> he lived at a time where <UNK> carried a death sentence and political intrigue normally involved <UNK> in a society defined by the <UNK> <UNK> the boy for the <UNK> of his scream br br you can't fault derek <UNK> for his cinematography nor his <UNK> of <UNK> and you certainly can't <UNK> the man of <UNK> away from the <UNK> but frankly <UNK> never <UNK> beyond 80s <UNK> italian <UNK> becomes the 80s london art scene complete with pretty <UNK> and sean <UNK> is a sexy bit of <UNK> rough his <UNK> <UNK> <UNK> performs a transformation worthy of a <UNK> and <UNK> why miss lena without that <UNK> you're beautiful <UNK> provides <UNK> with a particularly trite <UNK> for the murder which left him <UNK> br br this could have been a visually stunning treatment of a man whose life was dangerous exciting violent and <UNK> but who nonetheless <UNK> the lives of ordinary people to the status of <UNK> masterpieces looked on by and <UNK> instead what you get is <UNK> et <UNK> do italy the pretty bodies of young boys are shown to perfection but never the men who <UNK> them <UNK> appears to <UNK> the london art scene showing it shallow and pretentious to use <UNK> and <UNK> italy to make the point is to use a <UNK> <UNK> to make a <UNK> ear in <UNK> this film remains visually stunning but ultimately as two dimensional as the <UNK> it describes\n",
            "\n",
            "Predicted : 0, real : 1.0, lenght: 97\n",
            "<START> minor spoiler br br <UNK> isn't scary but it is creepy it is an interesting <UNK> story with good acting and great special effects makeup br br basic plot a little girl <UNK> the strange things going on at her family's new house and <UNK> <UNK> on her <UNK> friends br br the movie doesn't waste time getting moving though the ending could have been more involved br br i don't recommend this movie to those expecting wanting hardcore horror but i do recommend it to those who want a <UNK> and not necessarily a thriller\n",
            "\n",
            "Predicted : 1, real : 0.0, lenght: 44\n",
            "<START> there must be an <UNK> this movie belongs with plan 9 and a lot others as a quite entertaining silly <UNK> you'll never accept you like it yet you will watch it whenever it comes out on tv it's as simple as that\n",
            "\n",
            "Predicted : 1, real : 0.0, lenght: 42\n",
            "<START> the movie is not as funny as the director's <UNK> and only other movie <UNK> <UNK> <UNK> did have its moments but it did not satisfy me why it needed to be so <UNK> i don't know but i give <UNK>\n",
            "\n"
          ]
        }
      ],
      "source": [
        "def show_errors(x_test, model, labels, int2word, n_samples=10):\n",
        "    preds = 1.0 * (model.predict(x_test).flatten() > 0.5)\n",
        "    bad_pred_inds = np.where(preds != labels)[0]\n",
        "    n_samples = min(len(bad_pred_inds), n_samples)\n",
        "    samples_inds = np.random.choice(bad_pred_inds, n_samples)\n",
        "    for ind in samples_inds:\n",
        "        print('Predicted : {0}, real : {1}, lenght: {2}'.format(\n",
        "            int(preds[ind]), labels[ind], len(test_data[ind])))\n",
        "        print(get_words(test_data[ind], int2word))\n",
        "        print()\n",
        "    return\n",
        "\n",
        "show_errors(x_test, model, y_test, int2word, n_samples=10)"
      ]
    },
    {
      "cell_type": "markdown",
      "metadata": {
        "id": "k73OHrN6q_2e"
      },
      "source": [
        "### Making predictioins with new data"
      ]
    },
    {
      "cell_type": "code",
      "execution_count": 50,
      "metadata": {
        "colab": {
          "base_uri": "https://localhost:8080/"
        },
        "id": "HzuUC30Rq_2f",
        "outputId": "93ad00a5-647a-431c-b679-b6285d7cbd0d"
      },
      "outputs": [
        {
          "output_type": "stream",
          "name": "stdout",
          "text": [
            "\u001b[1m1/1\u001b[0m \u001b[32m━━━━━━━━━━━━━━━━━━━━\u001b[0m\u001b[37m\u001b[0m \u001b[1m0s\u001b[0m 348ms/step\n",
            "\n",
            "the film was really bad and i am very disappointed\n",
            "Sentiment:  0.0\n",
            "\n",
            "The film was very funny entertaining and good we had a great time . brilliant film\n",
            "Sentiment:  1.0\n",
            "\n",
            "this film was just brilliant\n",
            "Sentiment:  1.0\n",
            "\n",
            "the movie is not bad\n",
            "Sentiment:  0.0\n",
            "\n",
            "the movie is not bad I like it\n",
            "Sentiment:  0.0\n"
          ]
        }
      ],
      "source": [
        "reviews = ['the film was really bad and i am very disappointed',\n",
        "           'The film was very funny entertaining and good we had a great time . brilliant film',\n",
        "           'this film was just brilliant',\n",
        "           'the movie is not bad',\n",
        "           'the movie is not bad I like it'\n",
        "]\n",
        "sequences = [vectorize_text_sentence(review.lower(), word2int)\n",
        "             for review in reviews]\n",
        "\n",
        "x_pred = vectorize_sequences(sequences, num_words=num_words)\n",
        "predictions = model.predict(x_pred)\n",
        "for review, pred in zip(reviews, predictions.flatten()):\n",
        "    print()\n",
        "    print(review)\n",
        "    print('Sentiment: ', np.round(pred, 2))"
      ]
    },
    {
      "cell_type": "code",
      "execution_count": 51,
      "metadata": {
        "colab": {
          "base_uri": "https://localhost:8080/"
        },
        "id": "VoZ1DH2hq_2f",
        "outputId": "be278080-49f4-402d-9225-631dcfcabb52"
      },
      "outputs": [
        {
          "output_type": "stream",
          "name": "stdout",
          "text": [
            "\u001b[1m1/1\u001b[0m \u001b[32m━━━━━━━━━━━━━━━━━━━━\u001b[0m\u001b[37m\u001b[0m \u001b[1m0s\u001b[0m 32ms/step\n"
          ]
        },
        {
          "output_type": "execute_result",
          "data": {
            "text/plain": [
              "array([[0.],\n",
              "       [1.],\n",
              "       [1.],\n",
              "       [0.],\n",
              "       [0.]])"
            ]
          },
          "metadata": {},
          "execution_count": 51
        }
      ],
      "source": [
        "1.0*(model.predict(x_pred) > 0.5)"
      ]
    },
    {
      "cell_type": "markdown",
      "metadata": {
        "id": "XnKFBF1Dq_2f"
      },
      "source": [
        "### Question 1: Repeat the process with unnormalized bag of words, compare results"
      ]
    },
    {
      "cell_type": "code",
      "execution_count": 53,
      "metadata": {
        "colab": {
          "base_uri": "https://localhost:8080/"
        },
        "id": "mkCRZYOqq_2f",
        "outputId": "75bca391-555c-4ae4-9fe9-f92272bed9ae"
      },
      "outputs": [
        {
          "output_type": "execute_result",
          "data": {
            "text/plain": [
              "((25000, 5003), (25000,))"
            ]
          },
          "metadata": {},
          "execution_count": 53
        }
      ],
      "source": [
        "x_train = vectorize_sequences(train_data, num_words=num_words, norm=False)\n",
        "x_test = vectorize_sequences(test_data, num_words=num_words, norm=False)\n",
        "y_train =np.asarray(train_labels).astype('float32')\n",
        "y_test = np.asarray(test_labels).astype('float32')\n",
        "x_train.shape, y_train.shape"
      ]
    },
    {
      "cell_type": "code",
      "execution_count": null,
      "metadata": {
        "id": "OdPu3WK3q_2f"
      },
      "outputs": [],
      "source": [
        "model = ..."
      ]
    },
    {
      "cell_type": "code",
      "execution_count": null,
      "metadata": {
        "id": "EaWBgGm1q_2f"
      },
      "outputs": [],
      "source": [
        "model.compile(\n",
        "    optimizer='adam',\n",
        "    loss='binary_crossentropy',\n",
        "    metrics=['accuracy']\n",
        ")\n",
        "history = model.fit(x_train, y_train, validation_split=0.25, epochs= 10, batch_size=32)\n",
        "show_loss_accuracy_evolution(hist)\n",
        "results = model.evaluate(x_test, y_test, verbose=1)\n",
        "print('Test Loss: {}'.format(results[0]))\n",
        "print('Test Accuracy: {}'.format(results[1]))"
      ]
    },
    {
      "cell_type": "markdown",
      "metadata": {
        "id": "lvQi0BrNq_2f"
      },
      "source": [
        "### Question 2: What happens if you reduce the size of the vocabulary `num_words`, compare results"
      ]
    },
    {
      "cell_type": "code",
      "execution_count": null,
      "metadata": {
        "id": "BVUcTV0_q_2f"
      },
      "outputs": [],
      "source": [
        "num_words = ...\n",
        "(train_data, train_labels), (test_data, test_labels) = imdb.load_data(num_words=num_words)\n",
        "print(train_data[0])\n",
        "\n",
        "word2int = imdb.get_word_index()\n",
        "word2int = {w: i+3 for w, i in word2int.items()}\n",
        "word2int[\"<PAD>\"] = 0\n",
        "word2int[\"<START>\"] = 1\n",
        "word2int[\"<UNK>\"] = 2\n",
        "word2int[\"<UNUSED>\"] = 3\n",
        "int2word = {i: w for w, i in word2int.items()}\n",
        "num_words = num_words+3\n",
        "\n",
        "x_train = vectorize_sequences(train_data, num_words=num_words)\n",
        "x_test = vectorize_sequences(test_data, num_words=num_words)\n",
        "y_train =np.asarray(train_labels).astype('float32')\n",
        "y_test = np.asarray(test_labels).astype('float32')\n",
        "x_train.shape, y_train.shape"
      ]
    },
    {
      "cell_type": "code",
      "execution_count": null,
      "metadata": {
        "id": "Z24xYcBEq_2f"
      },
      "outputs": [],
      "source": [
        "model = ..."
      ]
    },
    {
      "cell_type": "code",
      "execution_count": null,
      "metadata": {
        "id": "AdqUAcTfq_2f"
      },
      "outputs": [],
      "source": [
        "model.compile(\n",
        "    optimizer='adam',\n",
        "    loss='binary_crossentropy',\n",
        "    metrics=['accuracy']\n",
        ")\n",
        "history = model.fit(x_train, y_train, validation_split=0.25, epochs= 10, batch_size=32)\n",
        "show_loss_accuracy_evolution(hist)\n",
        "results = model.evaluate(x_test, y_test, verbose=1)\n",
        "print('Test Loss: {}'.format(results[0]))\n",
        "print('Test Accuracy: {}'.format(results[1]))"
      ]
    },
    {
      "cell_type": "code",
      "execution_count": null,
      "metadata": {
        "id": "ljyH_Xpsq_2g"
      },
      "outputs": [],
      "source": [
        "reviews = [\n",
        "    'the film was really bad and i am very disappointed',\n",
        "    'The film was very funny entertaining and good we had a great time . brilliant film',\n",
        "    'this film was just brilliant', 'the movie is not bad',\n",
        "    'the movie is not bad I like it'\n",
        "]\n",
        "sequences = [\n",
        "    vectorize_text_sentence(review.lower(), word2int) for review in reviews\n",
        "]\n",
        "\n",
        "x_pred = vectorize_sequences(sequences, num_words=num_words)\n",
        "predictions = model.predict(x_pred)\n",
        "for review, pred in zip(reviews, predictions.flatten()):\n",
        "    print()\n",
        "    print(review)\n",
        "    print('Sentiment: ', np.round(pred, 2))"
      ]
    },
    {
      "cell_type": "markdown",
      "metadata": {
        "id": "MOJ11FwIq_2g"
      },
      "source": [
        "### Compare with other ML algorithms"
      ]
    },
    {
      "cell_type": "code",
      "execution_count": 55,
      "metadata": {
        "colab": {
          "base_uri": "https://localhost:8080/"
        },
        "id": "nhjFpYAmq_2g",
        "outputId": "148e3cec-2d56-45d1-859e-861c75c4eb2f"
      },
      "outputs": [
        {
          "output_type": "stream",
          "name": "stdout",
          "text": [
            "Test Accuracy: 0.71792\n"
          ]
        }
      ],
      "source": [
        "from sklearn.linear_model import LogisticRegression\n",
        "clr = LogisticRegression()\n",
        "clr.fit(x_train, y_train)\n",
        "val_acc = clr.score(x_test, y_test)\n",
        "print('Test Accuracy: {}'.format(val_acc))"
      ]
    },
    {
      "cell_type": "code",
      "execution_count": 56,
      "metadata": {
        "colab": {
          "base_uri": "https://localhost:8080/"
        },
        "id": "L8p1FVNEq_2g",
        "outputId": "24ae7e52-4fef-4b23-d2df-6043d2fe290d"
      },
      "outputs": [
        {
          "output_type": "stream",
          "name": "stdout",
          "text": [
            "Test Accuracy: 0.80584\n"
          ]
        }
      ],
      "source": [
        "from sklearn.ensemble import RandomForestClassifier\n",
        "rfc = RandomForestClassifier(max_depth=5, n_jobs=-1)\n",
        "rfc.fit(x_train, y_train)\n",
        "val_acc = rfc.score(x_test, y_test)\n",
        "print('Test Accuracy: {}'.format(val_acc))"
      ]
    },
    {
      "cell_type": "code",
      "execution_count": 57,
      "metadata": {
        "colab": {
          "base_uri": "https://localhost:8080/"
        },
        "id": "KNDqIvVSq_2g",
        "outputId": "8e769d15-76a3-434d-ef97-f48fab480c20"
      },
      "outputs": [
        {
          "output_type": "stream",
          "name": "stdout",
          "text": [
            "Test Accuracy: 0.84152\n"
          ]
        }
      ],
      "source": [
        "from sklearn.ensemble import RandomForestClassifier\n",
        "rfc = RandomForestClassifier(n_jobs=-1)\n",
        "rfc.fit(x_train, y_train)\n",
        "val_acc = rfc.score(x_test, y_test)\n",
        "print('Test Accuracy: {}'.format(val_acc))"
      ]
    },
    {
      "cell_type": "code",
      "execution_count": 58,
      "metadata": {
        "colab": {
          "base_uri": "https://localhost:8080/"
        },
        "id": "KOfd9dC-q_2g",
        "outputId": "93e00665-6852-4fe2-d5e9-0a5481ffb60d"
      },
      "outputs": [
        {
          "output_type": "stream",
          "name": "stdout",
          "text": [
            "First training review:  <START> this film was just brilliant casting location scenery story direction everyone's really suited the part they played and you could just imagine being there robert <UNK> is an amazing actor and now the same being director <UNK> father came from the same scottish island as myself so i loved the fact there was a real connection with this film the witty remarks throughout the film were great it was just brilliant so much that i bought the film as soon as it was released for <UNK> and would recommend it to everyone to watch and the fly <UNK> was amazing really cried at the end it was so sad and you know what they say if you cry at a film it must have been good and this definitely was also <UNK> to the two little <UNK> that played the <UNK> of norman and paul they were just brilliant children are often left out of the <UNK> list i think because the stars that play them all grown up are such a big <UNK> for the whole film but these children are amazing and should be <UNK> for what they have done don't you think the whole story was so lovely because it was true and was someone's life after all that was <UNK> with us all\n"
          ]
        }
      ],
      "source": [
        "reviews = []\n",
        "# training reviews\n",
        "for ind in range(len(train_data)):\n",
        "    sentence = train_data[ind]\n",
        "    sentence_text = get_words(train_data[ind], int2word)\n",
        "    reviews.append(sentence_text)\n",
        "print('First training review: ', reviews[0])"
      ]
    }
  ],
  "metadata": {
    "kernelspec": {
      "display_name": "Python 3",
      "name": "python3"
    },
    "language_info": {
      "codemirror_mode": {
        "name": "ipython",
        "version": 3
      },
      "file_extension": ".py",
      "mimetype": "text/x-python",
      "name": "python",
      "nbconvert_exporter": "python",
      "pygments_lexer": "ipython3",
      "version": "3.9.15"
    },
    "latex_envs": {
      "LaTeX_envs_menu_present": true,
      "autoclose": false,
      "autocomplete": true,
      "bibliofile": "biblio.bib",
      "cite_by": "apalike",
      "current_citInitial": 1,
      "eqLabelWithNumbers": true,
      "eqNumInitial": 1,
      "hotkeys": {
        "equation": "Ctrl-E",
        "itemize": "Ctrl-I"
      },
      "labels_anchors": false,
      "latex_user_defs": false,
      "report_style_numbering": false,
      "user_envs_cfg": false
    },
    "toc": {
      "base_numbering": 1,
      "nav_menu": {},
      "number_sections": true,
      "sideBar": true,
      "skip_h1_title": false,
      "title_cell": "Table of Contents",
      "title_sidebar": "Contents",
      "toc_cell": false,
      "toc_position": {},
      "toc_section_display": true,
      "toc_window_display": false
    },
    "colab": {
      "provenance": [],
      "gpuType": "T4"
    },
    "accelerator": "GPU"
  },
  "nbformat": 4,
  "nbformat_minor": 0
}